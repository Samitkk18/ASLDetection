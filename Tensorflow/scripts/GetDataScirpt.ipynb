{
 "cells": [
  {
   "cell_type": "code",
   "execution_count": null,
   "id": "7c2ceb4d",
   "metadata": {},
   "outputs": [],
   "source": [
    "#Importing the Libraries\n",
    "import cv2\n",
    "import os\n",
    "import time\n",
    "import uuid"
   ]
  },
  {
   "cell_type": "code",
   "execution_count": null,
   "id": "f38cfe96",
   "metadata": {},
   "outputs": [],
   "source": [
    "IMAGES_PATH = 'Tensorflow/workspace/images/collectedimages'"
   ]
  },
  {
   "cell_type": "code",
   "execution_count": null,
   "id": "df7e5668",
   "metadata": {},
   "outputs": [],
   "source": [
    "labels = ['1', '2']\n",
    "\"\"\"labels = ['iloveyou', 'Please']\n",
    "labels = ['Yes', 'No']\n",
    "labels = ['Hello', 'Thankyou']\n",
    "labels = ['A', 'B']\n",
    "labels = ['C', 'D']\n",
    "labels = ['E', 'F']\n",
    "labels = ['G', 'H']\n",
    "labels = ['I', 'J']\n",
    "labels = ['K', 'L']\n",
    "labels = ['M', 'N']\n",
    "labels = ['O', 'P']\n",
    "labels = ['Q', 'R']\n",
    "labels = ['S', 'T']\n",
    "labels = ['U', 'V']\n",
    "labels = ['W', 'X']\n",
    "labels = ['Y', 'Z']\n",
    "labels = ['1', '2']\n",
    "labels = ['3', '4']\n",
    "labels = ['5', '6']\n",
    "labels = ['7', '8']\n",
    "labels = ['9', '10']\"\"\"\n",
    "\n",
    "num_imgs = 15"
   ]
  },
  {
   "cell_type": "code",
   "execution_count": null,
   "id": "84a8ab0f",
   "metadata": {},
   "outputs": [],
   "source": [
    "for label in labels:\n",
    "    !mkdir = {'Tensorflow/workspace/images/collectedimages//'+label}\n",
    "    cap = cv2.VideoCapture(0)\n",
    "    print('Collecting Image for {}'.format(label))\n",
    "    time.sleep(5)\n",
    "    for imgnum in range(num_imgs):\n",
    "        ret, frame = cap.read()\n",
    "        imgname = os.path.join(IMAGES_PATH, label, label+'.'+'{}.jpg'.format(str(uuid.uuid1())))\n",
    "        cv2.imwrite(imgname, frame)\n",
    "        cv2.imshow('frame', frame)\n",
    "        time.sleep(2)\n",
    "        \n",
    "        if cv2.waitKey(1) & 0xFF == ord('q'):\n",
    "            break\n",
    "    cap.release()"
   ]
  },
  {
   "cell_type": "markdown",
   "id": "dd79bb9a",
   "metadata": {},
   "source": [
    " "
   ]
  }
 ],
 "metadata": {
  "kernelspec": {
   "display_name": "Python 3",
   "language": "python",
   "name": "python3"
  },
  "language_info": {
   "codemirror_mode": {
    "name": "ipython",
    "version": 3
   },
   "file_extension": ".py",
   "mimetype": "text/x-python",
   "name": "python",
   "nbconvert_exporter": "python",
   "pygments_lexer": "ipython3",
   "version": "3.9.5"
  }
 },
 "nbformat": 4,
 "nbformat_minor": 5
}
